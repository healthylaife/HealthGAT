{
 "cells": [
  {
   "cell_type": "code",
   "execution_count": null,
   "id": "outside-doctor",
   "metadata": {},
   "outputs": [],
   "source": [
    "import ipywidgets as widgets\n",
    "import sys\n",
    "from pathlib import Path\n",
    "import os\n",
    "import importlib\n",
    "\n",
    "module_path='experiments'\n",
    "if module_path not in sys.path:\n",
    "    sys.path.append(module_path)\n",
    "\n",
    "module_path='node2vec/src'\n",
    "if module_path not in sys.path:\n",
    "    sys.path.append(module_path) \n",
    "    \n",
    "    \n",
    "import prepare_svc_embedding\n",
    "from prepare_svc_embedding import *\n",
    "\n",
    "import prepare_doc_embedding\n",
    "from prepare_doc_embedding import *\n",
    "\n",
    "import prepare_visit_embedding\n",
    "from prepare_visit_embedding import *\n",
    "\n",
    "import prepare_visit_embedding2\n",
    "from prepare_visit_embedding2 import *\n",
    "\n",
    "import prepare_pat_embedding\n",
    "from prepare_pat_embedding import *\n",
    "\n",
    "import doc_emb_train\n",
    "import doc_emb_train_2\n",
    "import pat_emb_train\n",
    "import visit_emb_train\n",
    "\n",
    "# import prepare_pat_embedding\n",
    "# from prepare_pat_embedding import *\n",
    "\n",
    "import main"
   ]
  },
  {
   "cell_type": "code",
   "execution_count": null,
   "id": "paperback-thomas",
   "metadata": {},
   "outputs": [],
   "source": [
    "importlib.reload(prepare_svc_embedding)\n",
    "import prepare_svc_embedding\n",
    "from prepare_svc_embedding import *\n",
    "\n",
    "importlib.reload(prepare_doc_embedding)\n",
    "import prepare_doc_embedding\n",
    "from prepare_doc_embedding import *\n",
    "\n",
    "importlib.reload(prepare_visit_embedding)\n",
    "import prepare_visit_embedding\n",
    "from prepare_visit_embedding import *\n",
    "\n",
    "importlib.reload(prepare_visit_embedding2)\n",
    "import prepare_visit_embedding2\n",
    "from prepare_visit_embedding2 import *\n",
    "\n",
    "importlib.reload(prepare_pat_embedding)\n",
    "import prepare_pat_embedding\n",
    "from prepare_pat_embedding import *\n",
    "\n",
    "importlib.reload(doc_emb_train)\n",
    "import doc_emb_train\n",
    "\n",
    "importlib.reload(doc_emb_train_2)\n",
    "import doc_emb_train_2\n",
    "\n",
    "importlib.reload(visit_emb_train)\n",
    "import visit_emb_train\n",
    "\n",
    "importlib.reload(pat_emb_train)\n",
    "import pat_emb_train\n",
    "#from doc_emb_train import *\n",
    "# importlib.reload(prepare_pat_embedding)\n",
    "# import prepare_pat_embedding\n",
    "# from prepare_pat_embedding import *\n",
    "\n",
    "importlib.reload(main)\n",
    "import main"
   ]
  },
  {
   "cell_type": "markdown",
   "id": "ancient-spine",
   "metadata": {},
   "source": [
    "### Define cohort"
   ]
  },
  {
   "cell_type": "code",
   "execution_count": null,
   "id": "inner-celtic",
   "metadata": {},
   "outputs": [],
   "source": [
    "prepare_svc_embedding.svc()"
   ]
  },
  {
   "cell_type": "markdown",
   "id": "respected-danger",
   "metadata": {},
   "source": [
    "### Generate medical code embeddings"
   ]
  },
  {
   "cell_type": "code",
   "execution_count": null,
   "id": "racial-newark",
   "metadata": {},
   "outputs": [],
   "source": [
    "main.start()"
   ]
  },
  {
   "cell_type": "markdown",
   "id": "capable-agency",
   "metadata": {},
   "source": [
    "### Initalize visit embeddings for 24-hour segments"
   ]
  },
  {
   "cell_type": "code",
   "execution_count": null,
   "id": "failing-script",
   "metadata": {},
   "outputs": [],
   "source": [
    "prepare_visit_embedding.doc()"
   ]
  },
  {
   "cell_type": "markdown",
   "id": "mature-record",
   "metadata": {},
   "source": [
    "### Train Visit 24-hour segments by using graph attention network and two auxiliary tasks"
   ]
  },
  {
   "cell_type": "code",
   "execution_count": null,
   "id": "convinced-formula",
   "metadata": {},
   "outputs": [],
   "source": [
    "visit_emb_train.start()"
   ]
  },
  {
   "cell_type": "markdown",
   "id": "decimal-blast",
   "metadata": {},
   "source": [
    "### Initalize visit embeddings for whole admission using 24-hour segment embedings"
   ]
  },
  {
   "cell_type": "code",
   "execution_count": null,
   "id": "choice-ownership",
   "metadata": {},
   "outputs": [],
   "source": [
    "prepare_visit_embedding2.doc()"
   ]
  },
  {
   "cell_type": "markdown",
   "id": "chronic-bridge",
   "metadata": {},
   "source": [
    "### Train Visit embeddings by using graph attention network and one auxiliary tasks"
   ]
  },
  {
   "cell_type": "code",
   "execution_count": null,
   "id": "norwegian-charter",
   "metadata": {},
   "outputs": [],
   "source": [
    "doc_emb_train_2.start()"
   ]
  },
  {
   "cell_type": "markdown",
   "id": "ignored-straight",
   "metadata": {},
   "source": [
    "### Initalize visit embeddings by taking mean of all medical code embeddings in whole admission record"
   ]
  },
  {
   "cell_type": "code",
   "execution_count": null,
   "id": "infectious-storage",
   "metadata": {},
   "outputs": [],
   "source": [
    "prepare_doc_embedding.doc()"
   ]
  },
  {
   "cell_type": "markdown",
   "id": "opening-lincoln",
   "metadata": {},
   "source": [
    "### Train Visit embeddings by using graph attention network and one auxiliary tasks"
   ]
  },
  {
   "cell_type": "code",
   "execution_count": null,
   "id": "lonely-bibliography",
   "metadata": {},
   "outputs": [],
   "source": [
    "doc_emb_train.start()"
   ]
  }
 ],
 "metadata": {
  "hide_input": false,
  "kernelspec": {
   "display_name": "Python [conda env:graph]",
   "language": "python",
   "name": "conda-env-graph-py"
  },
  "language_info": {
   "codemirror_mode": {
    "name": "ipython",
    "version": 3
   },
   "file_extension": ".py",
   "mimetype": "text/x-python",
   "name": "python",
   "nbconvert_exporter": "python",
   "pygments_lexer": "ipython3",
   "version": "3.7.16"
  }
 },
 "nbformat": 4,
 "nbformat_minor": 5
}
